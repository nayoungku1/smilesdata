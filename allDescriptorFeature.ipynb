{
 "cells": [
  {
   "cell_type": "code",
   "execution_count": 1,
   "id": "963aa247-bddd-42d0-aa6c-8086ee7ae698",
   "metadata": {},
   "outputs": [
    {
     "name": "stdout",
     "output_type": "stream",
     "text": [
      "총 217개의 descriptor가 존재합니다.\n"
     ]
    }
   ],
   "source": [
    "from rdkit import Chem\n",
    "from rdkit.Chem import Descriptors\n",
    "import pandas as pd\n",
    "\n",
    "# 전체 descriptor 목록\n",
    "descriptor_list = Descriptors.descList  # (name, function) 튜플 리스트\n",
    "print(f\"총 {len(descriptor_list)}개의 descriptor가 존재합니다.\")"
   ]
  },
  {
   "cell_type": "code",
   "execution_count": 2,
   "id": "8aaa4df9-d745-488a-8c2b-b693e7a6045f",
   "metadata": {},
   "outputs": [],
   "source": [
    "# 데이터 불러오기\n",
    "train = pd.read_csv(\"data/train.csv\")"
   ]
  },
  {
   "cell_type": "code",
   "execution_count": 3,
   "id": "44b16c51-402f-4778-a09d-07602367d0d9",
   "metadata": {},
   "outputs": [],
   "source": [
    "# 하나의 SMILES에 대해 descriptor 딕셔너리 반환\n",
    "def smiles_to_features(smi):\n",
    "    try: \n",
    "        mol = Chem.MolFromSmiles(smi)\n",
    "        features = {}\n",
    "        for name, func in descriptor_list:\n",
    "            try:\n",
    "                features[name] = func(mol)\n",
    "            except:\n",
    "                features[name] = None  # 계산 실패 시 None\n",
    "        return features\n",
    "    except: \n",
    "        print(f\"SMILES 파싱 실패: {smi}\")\n",
    "        return {name: 0 for name, _ in descriptor_list}"
   ]
  },
  {
   "cell_type": "code",
   "execution_count": 4,
   "id": "31b8f14f-b37d-4d75-9a2d-c98cc6a24af5",
   "metadata": {},
   "outputs": [],
   "source": [
    "# 예시 SMILES 리스트\n",
    "y_train = train.iloc[:,-1]\n",
    "X_train = train['Canonical_Smiles'].apply(smiles_to_features).apply(pd.Series)"
   ]
  },
  {
   "cell_type": "code",
   "execution_count": 5,
   "id": "6a45f038-552c-416c-9623-df1d0d17732d",
   "metadata": {},
   "outputs": [],
   "source": [
    "X_train.to_csv(\"data/X_train_allDescriptors.csv\", index=False)\n",
    "y_train.to_csv(\"data/y_train.csv\", index=False)"
   ]
  },
  {
   "cell_type": "code",
   "execution_count": 6,
   "id": "c13c2550-5fd1-4dab-a37e-8bf75b6a2b16",
   "metadata": {},
   "outputs": [],
   "source": [
    "test = pd.read_csv(\"data/test.csv\")\n",
    "X_test = test['Canonical_Smiles'].apply(smiles_to_features).apply(pd.Series)\n",
    "X_test.to_csv(\"data/X_test_allDescriptors.csv\", index=False)"
   ]
  }
 ],
 "metadata": {
  "kernelspec": {
   "display_name": "Python 3 (ipykernel)",
   "language": "python",
   "name": "python3"
  },
  "language_info": {
   "codemirror_mode": {
    "name": "ipython",
    "version": 3
   },
   "file_extension": ".py",
   "mimetype": "text/x-python",
   "name": "python",
   "nbconvert_exporter": "python",
   "pygments_lexer": "ipython3",
   "version": "3.11.13"
  }
 },
 "nbformat": 4,
 "nbformat_minor": 5
}
